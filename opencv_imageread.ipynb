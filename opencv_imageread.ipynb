{
 "cells": [
  {
   "cell_type": "code",
   "execution_count": null,
   "metadata": {},
   "outputs": [
    {
     "name": "stdout",
     "output_type": "stream",
     "text": [
      "(350, 525, 3)\n"
     ]
    }
   ],
   "source": [
    "#!/usr/bin/python3\n",
    "\n",
    "import cv2\n",
    "import os\n",
    "import numpy\n",
    "#loading image\n",
    "img=cv2.imread('horse.jpeg')\n",
    "img1=cv2.imread('horse.jpeg',0)\n",
    "\n",
    "#print height and width\n",
    "print(img.shape)\n",
    "\n",
    "#to display thet image\n",
    "cv2.imshow(\"horse\", img)\n",
    "cv2.imshow(\"horsenew\",img1)\n",
    "\n",
    "#image window holder activate\n",
    "cv2.waitKey(0)\n",
    "\n",
    "#waitkey will destry by using q button\n",
    "cv2.destroyAllWindows()\n"
   ]
  },
  {
   "cell_type": "code",
   "execution_count": null,
   "metadata": {},
   "outputs": [],
   "source": []
  },
  {
   "cell_type": "code",
   "execution_count": null,
   "metadata": {},
   "outputs": [],
   "source": []
  }
 ],
 "metadata": {
  "kernelspec": {
   "display_name": "Python 3",
   "language": "python",
   "name": "python3"
  },
  "language_info": {
   "codemirror_mode": {
    "name": "ipython",
    "version": 3
   },
   "file_extension": ".py",
   "mimetype": "text/x-python",
   "name": "python",
   "nbconvert_exporter": "python",
   "pygments_lexer": "ipython3",
   "version": "3.5.2"
  }
 },
 "nbformat": 4,
 "nbformat_minor": 2
}
