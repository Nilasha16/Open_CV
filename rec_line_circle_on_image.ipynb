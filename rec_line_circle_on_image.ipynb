{
 "cells": [
  {
   "cell_type": "code",
   "execution_count": null,
   "metadata": {},
   "outputs": [],
   "source": [
    "#!/usr/bin/python\n",
    "\n",
    "import cv2\n",
    "import os\n",
    "import numpy\n",
    "\n",
    "#all all functions of cv2 that is opencv model\n",
    "#print dir(cv2)\n",
    "\n",
    "#reading image\n",
    "                #image name, image features\n",
    "                #we can write  cv2.IMREAD_COLOR instead of 1\n",
    "                #we can write  cv2.IMREAD_BGR2GRAY instead of 0\n",
    "                #we can write  cv2.IMREAD_UNCHANGE_COLOR instead of -1\n",
    "                \n",
    "img=cv2.imread(\"horse.jpeg\")\n",
    "\n",
    "#to draw a line in horse image\n",
    "#        imagedata, start point , end point, color, line width\n",
    "cv2.line(img,(0,0),(100,100),(100,120,255),3)\n",
    "cv2.rectangle(img,(20,20),(100,100),(255,255,255),-1)\n",
    "cv2.circle(img,(100,100),30,(12,45,200),1)\n",
    "\n",
    "font=cv2.FONT_HERSHEY_SIMPLEX\n",
    "\n",
    "\n",
    "cv2.imshow(\"lineimg\",img)\n",
    "cv2.imwrite(\"horseline.jpeg\",img)\n",
    "cv2.waitKey(0)"
   ]
  },
  {
   "cell_type": "code",
   "execution_count": null,
   "metadata": {},
   "outputs": [],
   "source": []
  },
  {
   "cell_type": "code",
   "execution_count": null,
   "metadata": {},
   "outputs": [],
   "source": []
  }
 ],
 "metadata": {
  "kernelspec": {
   "display_name": "Python 3",
   "language": "python",
   "name": "python3"
  },
  "language_info": {
   "codemirror_mode": {
    "name": "ipython",
    "version": 3
   },
   "file_extension": ".py",
   "mimetype": "text/x-python",
   "name": "python",
   "nbconvert_exporter": "python",
   "pygments_lexer": "ipython3",
   "version": "3.5.2"
  }
 },
 "nbformat": 4,
 "nbformat_minor": 2
}
